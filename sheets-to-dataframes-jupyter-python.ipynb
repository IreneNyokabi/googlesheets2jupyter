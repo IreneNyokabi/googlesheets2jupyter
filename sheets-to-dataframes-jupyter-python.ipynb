{
 "cells": [
  {
   "cell_type": "markdown",
   "id": "a26d3774",
   "metadata": {},
   "source": [
    "# Install Packages"
   ]
  },
  {
   "cell_type": "code",
   "execution_count": 1,
   "id": "685162d8",
   "metadata": {},
   "outputs": [],
   "source": [
    "import pandas as pd \n",
    "import gspread\n",
    "from oauth2client.service_account import ServiceAccountCredentials\n",
    "import sqlalchemy"
   ]
  },
  {
   "cell_type": "code",
   "execution_count": 2,
   "id": "85712957",
   "metadata": {},
   "outputs": [],
   "source": [
    "#https://towardsdatascience.com/from-google-sheet-to-your-jupyter-notebook-ccdbf28fbf1b"
   ]
  },
  {
   "cell_type": "markdown",
   "id": "d4850de2",
   "metadata": {},
   "source": [
    "# Create a service object"
   ]
  },
  {
   "cell_type": "code",
   "execution_count": 4,
   "id": "63f6b956",
   "metadata": {},
   "outputs": [],
   "source": [
    "#The scope is always look like this so we did not need to change anything\n",
    "scope = [\n",
    "   'https://spreadsheets.google.com/feeds',\n",
    "         'https://www.googleapis.com/auth/drive']\n",
    "#Name of our Service Account Key\n",
    "#downloaded from (https://console.cloud.google.com/) and saved in the same folder as your project\n",
    "google_key_file = 'service_account_GS.json'\n",
    "credentials = ServiceAccountCredentials.from_json_keyfile_name(google_key_file, scope)\n",
    "gc = gspread.authorize(credentials)"
   ]
  },
  {
   "cell_type": "markdown",
   "id": "2f326512",
   "metadata": {},
   "source": [
    "# Read from sheetID"
   ]
  },
  {
   "cell_type": "code",
   "execution_count": null,
   "id": "dddc561f",
   "metadata": {},
   "outputs": [],
   "source": [
    "#Opening the worksheet by using Worksheet ID\n",
    "#share the google sheet document with the email from your service_account_GS.json above. If you miss this, you will not be able to extract data from the sheet\n",
    "workbook = gc.open_by_key('{spreadsheet-key}')\n",
    "#Selecting which sheet to pulling the data\n",
    "sheet = workbook.worksheet('{tab-data-is-in-googlesheet}')\n",
    "#Pulling the data and transform it to the data frame\n",
    "values = sheet.get_all_values()\n",
    "response = pd.DataFrame(values[1:], columns = values[0])\n",
    "response\n",
    "\n",
    "## response is now the name of your dataframe and you can use it to transform your data"
   ]
  }
 ],
 "metadata": {
  "kernelspec": {
   "display_name": "Python 3",
   "language": "python",
   "name": "python3"
  },
  "language_info": {
   "codemirror_mode": {
    "name": "ipython",
    "version": 3
   },
   "file_extension": ".py",
   "mimetype": "text/x-python",
   "name": "python",
   "nbconvert_exporter": "python",
   "pygments_lexer": "ipython3",
   "version": "3.8.8"
  }
 },
 "nbformat": 4,
 "nbformat_minor": 5
}
